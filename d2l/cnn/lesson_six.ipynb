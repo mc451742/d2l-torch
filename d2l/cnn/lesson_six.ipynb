{
 "cells": [
  {
   "cell_type": "markdown",
   "metadata": {},
   "source": [
    "Convolutional Layer"
   ]
  },
  {
   "cell_type": "code",
   "execution_count": null,
   "metadata": {},
   "outputs": [],
   "source": [
    "\"\"\"Cross-correlation operation\"\"\"\n",
    "import torch\n",
    "from torch import nn\n",
    "from d2l import torch as d2l\n",
    "\n",
    "def corr2d(X, K):\n",
    "    \"\"\"Calculate 2D cross-correlation operation\"\"\"\n",
    "    \"\"\"X is input matrix, K is kernel matrix\"\"\"\n",
    "    h, w = K.shape # h = height, w = width\n",
    "    Y = torch.zeros(\n",
    "        (X.shape[0] - h + 1, X.shape[1] - w + 1) # Previous formula: (n_h - k_h + 1) * (n_w - k_w + 1) = (input - kernel + 1)\n",
    "    )\n",
    "    for i in range(Y.shape[0]): # Height\n",
    "        for j in range(Y.shape[1]): # Width\n",
    "            Y[i, j] = ( # (height, width) matrix\n",
    "                X[i:i + h, j:j + w] * K # Shift operation up to (h, w), then dot product with K (kernel matrix)\n",
    "            ).sum() # Sum\n",
    "    return Y"
   ]
  },
  {
   "cell_type": "code",
   "execution_count": 2,
   "metadata": {},
   "outputs": [
    {
     "data": {
      "text/plain": [
       "tensor([[19., 25.],\n",
       "        [37., 43.]])"
      ]
     },
     "execution_count": 2,
     "metadata": {},
     "output_type": "execute_result"
    }
   ],
   "source": [
    "X = torch.tensor(\n",
    "    [\n",
    "        [0.0, 1.0, 2.0],\n",
    "        [3.0, 4.0, 5.0],\n",
    "        [6.0, 7.0, 8.0]\n",
    "    ]\n",
    ")\n",
    "K = torch.tensor(\n",
    "    [\n",
    "        [0.0, 1.0],\n",
    "        [2.0, 3.0]\n",
    "    ]\n",
    ")\n",
    "corr2d(X, K)"
   ]
  },
  {
   "cell_type": "code",
   "execution_count": null,
   "metadata": {},
   "outputs": [],
   "source": [
    "\"\"\"2D convolutional operation\"\"\"\n",
    "class Conv2D(nn.Module):\n",
    "    def __init__(self, kernel_size):\n",
    "        super().__init__()\n",
    "        self.weight = nn.Parameter(torch.rand(kernel_size)) # Random initialization based on kernel size\n",
    "        self.bias = nn.Parameter(torch.zeros(1)) # All zero initialization\n",
    "\n",
    "    def forward(self, x):\n",
    "        return corr2d(x, self.weight) + self.bias # (X * W) + b, formula = (W.T * X) + b"
   ]
  },
  {
   "cell_type": "code",
   "execution_count": 4,
   "metadata": {},
   "outputs": [
    {
     "data": {
      "text/plain": [
       "tensor([[1., 1., 0., 0., 0., 0., 1., 1.],\n",
       "        [1., 1., 0., 0., 0., 0., 1., 1.],\n",
       "        [1., 1., 0., 0., 0., 0., 1., 1.],\n",
       "        [1., 1., 0., 0., 0., 0., 1., 1.],\n",
       "        [1., 1., 0., 0., 0., 0., 1., 1.],\n",
       "        [1., 1., 0., 0., 0., 0., 1., 1.]])"
      ]
     },
     "execution_count": 4,
     "metadata": {},
     "output_type": "execute_result"
    }
   ],
   "source": [
    "\"\"\"Simple application of convolutional layer: detect edges of different color in images\"\"\"\n",
    "X = torch.ones((6, 8))\n",
    "X[:, 2:6] = 0\n",
    "X"
   ]
  },
  {
   "cell_type": "code",
   "execution_count": null,
   "metadata": {},
   "outputs": [],
   "source": [
    "K = torch.tensor(\n",
    "    [[1.0, -1.0]] # If these is no color change, (X * K) should be 0 instead of 1 or -1\n",
    ")"
   ]
  },
  {
   "cell_type": "code",
   "execution_count": 6,
   "metadata": {},
   "outputs": [
    {
     "data": {
      "text/plain": [
       "tensor([[ 0.,  1.,  0.,  0.,  0., -1.,  0.],\n",
       "        [ 0.,  1.,  0.,  0.,  0., -1.,  0.],\n",
       "        [ 0.,  1.,  0.,  0.,  0., -1.,  0.],\n",
       "        [ 0.,  1.,  0.,  0.,  0., -1.,  0.],\n",
       "        [ 0.,  1.,  0.,  0.,  0., -1.,  0.],\n",
       "        [ 0.,  1.,  0.,  0.,  0., -1.,  0.]])"
      ]
     },
     "execution_count": 6,
     "metadata": {},
     "output_type": "execute_result"
    }
   ],
   "source": [
    "\"\"\"1 represents edge from white color (1) to black color (0)\"\"\"\n",
    "\"\"\"-1 represents edge from black color (0) to white color (1)\"\"\"\n",
    "Y = corr2d(X, K)\n",
    "Y"
   ]
  },
  {
   "cell_type": "code",
   "execution_count": 7,
   "metadata": {},
   "outputs": [
    {
     "data": {
      "text/plain": [
       "tensor([[0., 0., 0., 0., 0.],\n",
       "        [0., 0., 0., 0., 0.],\n",
       "        [0., 0., 0., 0., 0.],\n",
       "        [0., 0., 0., 0., 0.],\n",
       "        [0., 0., 0., 0., 0.],\n",
       "        [0., 0., 0., 0., 0.],\n",
       "        [0., 0., 0., 0., 0.],\n",
       "        [0., 0., 0., 0., 0.]])"
      ]
     },
     "execution_count": 7,
     "metadata": {},
     "output_type": "execute_result"
    }
   ],
   "source": [
    "corr2d(X.t(), K) # Kernel K can only detect vertical edges (horizontal edges detection will not work)"
   ]
  },
  {
   "cell_type": "code",
   "execution_count": null,
   "metadata": {},
   "outputs": [
    {
     "name": "stdout",
     "output_type": "stream",
     "text": [
      "batch 2, loss 11.863\n",
      "batch 4, loss 2.806\n",
      "batch 6, loss 0.805\n",
      "batch 8, loss 0.272\n",
      "batch 10, loss 0.102\n"
     ]
    }
   ],
   "source": [
    "\"\"\"Learn the convolution kernel from X to Y\"\"\"\n",
    "conv2d = nn.Conv2d(1, 1, kernel_size=(1, 2), bias=False) # input_channels = output_channels = 1, kernel = (1, 2) matrix\n",
    "\n",
    "X = X.reshape(\n",
    "    (1, 1, 6, 8) # channel, batch size, height, width\n",
    ")\n",
    "Y = Y.reshape(\n",
    "    (1, 1, 6, 7) # channel, batch size, height, width\n",
    ")\n",
    "\n",
    "for i in range(10):\n",
    "    Y_hat = conv2d(X) # Get prediction\n",
    "    l = (Y_hat - Y) ** 2 # Get loss\n",
    "    conv2d.zero_grad() # Reset gradient back to zero\n",
    "    l.sum().backward() # Compute gradient\n",
    "    conv2d.weight.data[:] -= 3e-2 * conv2d.weight.grad # Update gradient\n",
    "    # Print out batch and loss\n",
    "    if (i + 1) % 2 == 0:\n",
    "        print(f'batch {i+1}, loss {l.sum():.3f}')"
   ]
  },
  {
   "cell_type": "code",
   "execution_count": null,
   "metadata": {},
   "outputs": [
    {
     "data": {
      "text/plain": [
       "tensor([[ 0.9530, -1.0167]])"
      ]
     },
     "execution_count": 9,
     "metadata": {},
     "output_type": "execute_result"
    }
   ],
   "source": [
    "conv2d.weight.data.reshape((1, 2)) # The result will be similar to (1, -1) kernel matrix"
   ]
  },
  {
   "cell_type": "code",
   "execution_count": null,
   "metadata": {},
   "outputs": [],
   "source": []
  }
 ],
 "metadata": {
  "kernelspec": {
   "display_name": "d2l-zh",
   "language": "python",
   "name": "python3"
  },
  "language_info": {
   "codemirror_mode": {
    "name": "ipython",
    "version": 3
   },
   "file_extension": ".py",
   "mimetype": "text/x-python",
   "name": "python",
   "nbconvert_exporter": "python",
   "pygments_lexer": "ipython3",
   "version": "3.8.19"
  }
 },
 "nbformat": 4,
 "nbformat_minor": 2
}
